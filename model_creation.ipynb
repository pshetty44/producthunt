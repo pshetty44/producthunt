{
 "cells": [
  {
   "cell_type": "code",
   "execution_count": 172,
   "metadata": {
    "collapsed": false
   },
   "outputs": [],
   "source": [
    "import pandas as pd\n",
    "import numpy as np\n",
    "import matplotlib.pyplot as plt\n",
    "%matplotlib inline \n",
    "from sklearn.feature_extraction import text\n",
    "from sklearn.preprocessing import LabelEncoder\n",
    "from sklearn.model_selection import cross_val_score\n",
    "from sklearn.svm import SVC"
   ]
  },
  {
   "cell_type": "code",
   "execution_count": 173,
   "metadata": {
    "collapsed": false
   },
   "outputs": [],
   "source": [
    "#load topics, users and product posts\n",
    "topics = pd.read_csv('./data/AllTopics.csv',sep=',')\n",
    "posts = pd.read_csv('./data/PostsForAnalysis.txt',sep=',')\n",
    "users = pd.read_csv('./data/UsersForAnalysis.txt',sep=',')"
   ]
  },
  {
   "cell_type": "code",
   "execution_count": 169,
   "metadata": {
    "collapsed": true
   },
   "outputs": [],
   "source": [
    "#merge posts and users\n",
    "df = pd.merge(posts,users,on='user_id',how='left',suffixes=('_posts', '_users'))"
   ]
  },
  {
   "cell_type": "code",
   "execution_count": 170,
   "metadata": {
    "collapsed": true
   },
   "outputs": [],
   "source": [
    "#select the key features\n",
    "df1 = df[['day','time_of_day','product_state','num_makers','num_topics','collections_count','followed_topics_count',\n",
    "          'followers_count','maker_of_count','posts_count','votes_count_users']]"
   ]
  },
  {
   "cell_type": "code",
   "execution_count": 171,
   "metadata": {
    "collapsed": false
   },
   "outputs": [],
   "source": [
    "#handle missing values. Also replace categoical values with numbers using encoding.\n",
    "df1['votes_count_users'].fillna(0, inplace=True)\n",
    "df1['collections_count'].fillna(0, inplace=True)\n",
    "df1['followed_topics_count'].fillna(0, inplace=True)\n",
    "df1['followers_count'].fillna(0, inplace=True)\n",
    "df1['maker_of_count'].fillna(0, inplace=True)\n",
    "df1['posts_count'].fillna(0, inplace=True)\n",
    "df1.day = LabelEncoder().fit_transform(df1.day) \n",
    "df1.time_of_day = LabelEncoder().fit_transform(df1.time_of_day) \n",
    "df1.product_state = LabelEncoder().fit_transform(df1.product_state) \n"
   ]
  },
  {
   "cell_type": "code",
   "execution_count": 163,
   "metadata": {
    "collapsed": false
   },
   "outputs": [],
   "source": [
    "#define target. All products with votes above the 75 percentile are considered successful products.\n",
    "votes_75_perc = np.percentile(df1.votes_count_users, 75)\n",
    "df1.loc[:,'product_success'] = np.where(df1.votes_count_users>=votes_75_perc,1,0)\n",
    "#delete the column used to generate the target. This is to prevent leaking.\n",
    "df1 = df1.drop('votes_count_users', 1)"
   ]
  },
  {
   "cell_type": "code",
   "execution_count": 164,
   "metadata": {
    "collapsed": false
   },
   "outputs": [],
   "source": [
    "X = df1\n",
    "y = X.pop('product_success')"
   ]
  },
  {
   "cell_type": "code",
   "execution_count": 165,
   "metadata": {
    "collapsed": true
   },
   "outputs": [],
   "source": [
    "#svm gives the best result for this dataset.\n",
    "svr_rbf = SVC(kernel='rbf', C=1e3, gamma=0.1)"
   ]
  },
  {
   "cell_type": "code",
   "execution_count": 166,
   "metadata": {
    "collapsed": false
   },
   "outputs": [
    {
     "name": "stdout",
     "output_type": "stream",
     "text": [
      "accuracy:  0.986099418301\n",
      "recall:  0.94633689545\n"
     ]
    }
   ],
   "source": [
    "print 'accuracy: ', np.mean(cross_val_score(svr_rbf, X, y,cv=3,scoring = 'accuracy'))\n",
    "print 'recall: ', np.mean(cross_val_score(svr_rbf, X, y,cv=3,scoring = 'recall'))"
   ]
  },
  {
   "cell_type": "code",
   "execution_count": null,
   "metadata": {
    "collapsed": false
   },
   "outputs": [],
   "source": []
  }
 ],
 "metadata": {
  "kernelspec": {
   "display_name": "Python 2",
   "language": "python",
   "name": "python2"
  },
  "language_info": {
   "codemirror_mode": {
    "name": "ipython",
    "version": 2
   },
   "file_extension": ".py",
   "mimetype": "text/x-python",
   "name": "python",
   "nbconvert_exporter": "python",
   "pygments_lexer": "ipython2",
   "version": "2.7.12"
  }
 },
 "nbformat": 4,
 "nbformat_minor": 2
}
